{
 "cells": [
  {
   "cell_type": "markdown",
   "metadata": {},
   "source": [
    "# Implementing Loss Function\n",
    "\n",
    "### © Jubeen Shah 2018\n",
    "\n",
    "Hey there! Welcome to `J.S Codes` jupyter notebooks for TensorFlow!\n",
    "<br>"
   ]
  },
  {
   "cell_type": "code",
   "execution_count": 22,
   "metadata": {},
   "outputs": [],
   "source": [
    "import matplotlib.pyplot as plt\n",
    "import tensorflow as tf"
   ]
  },
  {
   "cell_type": "code",
   "execution_count": 2,
   "metadata": {},
   "outputs": [],
   "source": [
    "sess=tf.Session()"
   ]
  },
  {
   "cell_type": "markdown",
   "metadata": {},
   "source": [
    "Loss functions are very important to machine learning algorithms, they calculate the distance between the model outputs and the truth or the actual values. In this notebook we'll see various `loss` function implementation in TensorFlow.\n",
    "\n",
    "The `loss` function compares the target to the prediction and gives a numerical distance between the two.\n",
    "\n",
    "To start off, we will create a sequence of our predictions and a target as a tensor, we will output the results across 1000 points between -1 and 1."
   ]
  },
  {
   "cell_type": "code",
   "execution_count": 3,
   "metadata": {},
   "outputs": [],
   "source": [
    "x_vals = tf.linspace(start = -1., stop = 1., num = 1000)\n",
    "target = tf.constant(0.)"
   ]
  },
  {
   "cell_type": "markdown",
   "metadata": {},
   "source": [
    " - __L2 Norm Loss__ also known as `Euclidean Loss Function`. It is just the square of the distance to the target. Here, we will compute the `loss` function as if the target is zero. <br>\n",
    " ### $ \\sum_{i=0}^N {(y_i - h(x_i))^2}$"
   ]
  },
  {
   "cell_type": "code",
   "execution_count": 4,
   "metadata": {},
   "outputs": [],
   "source": [
    "l2_y_vals = tf.square(target - x_vals)\n",
    "l2_y_out = sess.run(l2_y_vals)"
   ]
  },
  {
   "cell_type": "markdown",
   "metadata": {},
   "source": [
    " - __L1 Norm Loss__ also known as the `Absolute Loss Function`. In this, instead of squaring the differnce we take the absolute value. The `L1 Norm Loss` function is better for __outliers__ than the L2 Norm Function, because it is not as steep for larger values. One issue, with the L1 Norm Loss function is that, its curve isn't smooth, which mugh result in algorithms not converging well.\n",
    " \n",
    " ### $ \\sum_{i=0}^N |y_i - h(x_i)|$"
   ]
  },
  {
   "cell_type": "code",
   "execution_count": 5,
   "metadata": {},
   "outputs": [],
   "source": [
    "l1_y_vals = tf.abs(target - x_vals)\n",
    "l1_y_out = sess.run(l1_y_vals)"
   ]
  },
  {
   "cell_type": "markdown",
   "metadata": {},
   "source": [
    " - __Pseudo-Huber Loss__ is a continuous and smooth approximation to the `Huber Loss Function`. This loss function attepts to take the best of L1 and L2 norms by being convex near the target and less steep for the extreme values. The form depends on the extra parameter, `delta` which dictates how steep it will be. We'll eventually see the graphs for all of these loss functions, later in this notebook.\n",
    " ### $ L_\\delta(a) =  \\delta^2 (\\sqrt {1 + (\\frac{a}{\\delta})^2} - 1)$"
   ]
  },
  {
   "cell_type": "code",
   "execution_count": 6,
   "metadata": {},
   "outputs": [],
   "source": [
    "delta1 = tf.constant(0.25)\n",
    "huber_y_vals_1 = tf.multiply(tf.square(delta1), tf.sqrt(1. + tf.square((target - x_vals) / delta1)) - 1.)\n",
    "huber_y_out_1 = sess.run(huber_y_vals_1)"
   ]
  },
  {
   "cell_type": "code",
   "execution_count": 7,
   "metadata": {},
   "outputs": [],
   "source": [
    "delta2 = tf.constant(5.)\n",
    "huber_y_vals_2 = tf.multiply(tf.square(delta1), tf.sqrt(1. + tf.square((target - x_vals) / delta1)) - 1.)\n",
    "huber_y_out_2 = sess.run(huber_y_vals_2)"
   ]
  },
  {
   "cell_type": "markdown",
   "metadata": {},
   "source": [
    "There are also classification `loss` function that can be used to predict categorical outcomes. To do that let us create one more variable with `l_vals` with target as a constant."
   ]
  },
  {
   "cell_type": "code",
   "execution_count": 8,
   "metadata": {},
   "outputs": [],
   "source": [
    "l_vals = tf.linspace(-3., 5., 500) #x_vals\n",
    "m_target = tf.constant(1.) #target\n",
    "m_targets = tf.fill([500], 1.) #targets"
   ]
  },
  {
   "cell_type": "markdown",
   "metadata": {},
   "source": [
    "`Hinge Loss` is mostly used for Support Vector Machines, but can be used even for Neural Networks as well. It is meant to compute the loss between two target classes, `1`and `-1`. You can learn more about [Hinge Loss](https://en.wikipedia.org/wiki/Hinge_loss) if you wish to. The mathematical formula for the function is as follows\n",
    "\n",
    "$ \\ell(y) = \\max(0, 1 - (t \\bullet y) )$"
   ]
  },
  {
   "cell_type": "code",
   "execution_count": 11,
   "metadata": {},
   "outputs": [],
   "source": [
    "hinge_y_vals = tf.maximum(0., tf.subtract(1., tf.multiply(m_target, l_vals)))\n",
    "hinge_y_out = sess.run(hinge_y_vals)"
   ]
  },
  {
   "cell_type": "markdown",
   "metadata": {},
   "source": [
    "[`Cross Entropy`](https://en.wikipedia.org/wiki/Cross_entropy) for a binart case is sometimes also referred to as `logistic loss function`. It comes about when we are predicting the two classes `0` or `1`. We wish to measure a distance from the actual class `(0 or 1)` to the predicted value, which usually is a real number between 0 and 1. The mathematical representation of cross entropy is as follows. \n",
    "\n",
    "$ H (p,q) = -\\sum_x p(x) \\log q(x) = - ylog \\hat{y} - (1 - y) log(1 - \\hat{y}) $"
   ]
  },
  {
   "cell_type": "code",
   "execution_count": 12,
   "metadata": {},
   "outputs": [],
   "source": [
    "cross_entropy_y_vals = - tf.multiply(m_target, tf.log(l_vals)) -tf.multiply((1. - m_target), tf.log(1. - l_vals))\n",
    "cross_entropy_y_out = sess.run(cross_entropy_y_vals)"
   ]
  },
  {
   "cell_type": "markdown",
   "metadata": {},
   "source": [
    "[`Sigmoid Cross Entropy Loss`](https://www.tensorflow.org/api_docs/python/tf/nn/sigmoid_cross_entropy_with_logits) is very similar to the previous loss function, except that we transform the x-values by the sigmoid function __before__ we put them in the cross entropy loss."
   ]
  },
  {
   "cell_type": "code",
   "execution_count": 17,
   "metadata": {},
   "outputs": [],
   "source": [
    "sigmoid_cross_entropy_y_vals = tf.nn.sigmoid_cross_entropy_with_logits(labels=m_targets, logits=l_vals)\n",
    "sigmoid_cross_entropy_y_out  = sess.run(sigmoid_cross_entropy_y_vals)"
   ]
  },
  {
   "cell_type": "markdown",
   "metadata": {},
   "source": [
    "`Weighted Cross Entropy` is a weighted version of the sigmoid cross entropy loss. We provide a weight on the positive target. "
   ]
  },
  {
   "cell_type": "code",
   "execution_count": 18,
   "metadata": {},
   "outputs": [],
   "source": [
    "weight = tf.constant(0.5)\n",
    "weighted_cross_entropy_y_vals = tf.nn.weighted_cross_entropy_with_logits(logits=l_vals, pos_weight=weight, targets=m_targets)\n",
    "weighted_cross_entropy_y_out = sess.run(weighted_cross_entropy_y_vals)"
   ]
  },
  {
   "cell_type": "markdown",
   "metadata": {},
   "source": [
    "`Softmax Cross Entropy` loss operates on non-normalized outputs. This function is used to measure a loss when there is only one target category instead of multiple. Because of this, the function transforms the ourputs into a probabilit distribution via the `softmax function` and then computes the loss function from a true probability distribution, as follows."
   ]
  },
  {
   "cell_type": "code",
   "execution_count": 20,
   "metadata": {},
   "outputs": [
    {
     "name": "stdout",
     "output_type": "stream",
     "text": [
      "[1.1601256]\n"
     ]
    }
   ],
   "source": [
    "unscaled_logits = tf.constant([[1.,-3., 10.]])\n",
    "target_dist = tf.constant([[0.1, 0.02, 0.88]])\n",
    "softmax_cross_entropy_y_vals = tf.nn.softmax_cross_entropy_with_logits_v2(logits= unscaled_logits, labels=target_dist)\n",
    "print(sess.run(softmax_cross_entropy_y_vals))"
   ]
  },
  {
   "cell_type": "markdown",
   "metadata": {},
   "source": [
    "## Plotting the loss functions\n",
    "\n",
    "Let's now use the matplotlib library to plot the values calculated above and compare them."
   ]
  },
  {
   "cell_type": "code",
   "execution_count": 23,
   "metadata": {},
   "outputs": [
    {
     "data": {
      "image/png": "[encoded data removed]",
      "text/plain": [
       "<Figure size 432x288 with 1 Axes>"
      ]
     },
     "metadata": {},
     "output_type": "display_data"
    }
   ],
   "source": [
    "x_array = sess.run(x_vals)\n",
    "plt.plot(x_array, l2_y_out, 'b-', label = 'L2 Loss')\n",
    "plt.plot(x_array, l1_y_out, 'r--', label = 'L1 Loss')\n",
    "plt.plot(x_array, huber_y_out_1, 'k-', label = 'P-Huber Loss (0.25)')\n",
    "plt.plot(x_array, huber_y_out_2, 'g:', label = 'P-Huber Loss (5)')\n",
    "plt.ylim(-0.2, 0.4)\n",
    "plt.legend(loc='lower right', prop={'size' : 11})\n",
    "plt.show()"
   ]
  },
  {
   "cell_type": "code",
   "execution_count": 25,
   "metadata": {},
   "outputs": [
    {
     "data": {
      "image/png": "[encoded data removed]",
      "text/plain": [
       "<Figure size 432x288 with 1 Axes>"
      ]
     },
     "metadata": {},
     "output_type": "display_data"
    }
   ],
   "source": [
    "l_array = sess.run(l_vals)\n",
    "plt.plot(l_array, hinge_y_out, 'b-', label = 'Hinge Loss')\n",
    "plt.plot(l_array, cross_entropy_y_out, 'r--', label = 'Cross Entropy Loss')\n",
    "plt.plot(l_array, sigmoid_cross_entropy_y_out, 'k-', label = 'Sigmoid Cross Entropy Loss')\n",
    "plt.plot(l_array, weighted_cross_entropy_y_out, 'g:', label = 'Weighted Cross Entropy Loss (x 0.5)')\n",
    "plt.ylim(-1.5, 3)\n",
    "plt.legend(loc='lower left', prop={'size' : 11})\n",
    "plt.show()"
   ]
  }
 ],
 "metadata": {
  "kernelspec": {
   "display_name": "Python 3",
   "language": "python",
   "name": "python3"
  },
  "language_info": {
   "codemirror_mode": {
    "name": "ipython",
    "version": 3
   },
   "file_extension": ".py",
   "mimetype": "text/x-python",
   "name": "python",
   "nbconvert_exporter": "python",
   "pygments_lexer": "ipython3",
   "version": "3.5.5"
  }
 },
 "nbformat": 4,
 "nbformat_minor": 2
}
