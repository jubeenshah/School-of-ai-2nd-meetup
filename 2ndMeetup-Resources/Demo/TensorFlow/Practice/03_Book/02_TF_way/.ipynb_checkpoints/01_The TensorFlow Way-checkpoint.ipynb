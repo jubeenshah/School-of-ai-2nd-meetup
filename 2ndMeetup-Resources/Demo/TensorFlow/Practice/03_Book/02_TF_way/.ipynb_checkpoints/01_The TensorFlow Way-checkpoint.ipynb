{
 "cells": [
  {
   "cell_type": "markdown",
   "metadata": {},
   "source": [
    "# The TensorFlow way\n",
    "\n",
    "### © Jubeen Shah 2018\n",
    "\n",
    "Hey there! Welcome to `J.S Codes` jupyter notebooks for TensorFlow!\n",
    "<br>"
   ]
  },
  {
   "cell_type": "code",
   "execution_count": 2,
   "metadata": {},
   "outputs": [],
   "source": [
    "import tensorflow as tf\n",
    "import numpy as np\n",
    "sess = tf.Session()"
   ]
  },
  {
   "cell_type": "markdown",
   "metadata": {},
   "source": [
    "In this notebook we'll learn how to connect and work with various layers, and also build some custom ones. The data we will generate and use will be representative of small random images, it is best to understand these types of operations on a simple example and how we can use some built in layers to perform calculations."
   ]
  },
  {
   "cell_type": "markdown",
   "metadata": {},
   "source": [
    " - First lets create our sample 2D image, which is 4px X 4px in size. We will create it in 4 dimensions, them being, the image number, height, width and the channel."
   ]
  }
 ],
 "metadata": {
  "kernelspec": {
   "display_name": "Python 3",
   "language": "python",
   "name": "python3"
  },
  "language_info": {
   "codemirror_mode": {
    "name": "ipython",
    "version": 3
   },
   "file_extension": ".py",
   "mimetype": "text/x-python",
   "name": "python",
   "nbconvert_exporter": "python",
   "pygments_lexer": "ipython3",
   "version": "3.5.5"
  }
 },
 "nbformat": 4,
 "nbformat_minor": 2
}
