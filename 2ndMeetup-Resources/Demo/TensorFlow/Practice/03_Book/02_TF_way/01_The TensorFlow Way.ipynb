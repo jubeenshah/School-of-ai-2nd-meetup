{
 "cells": [
  {
   "cell_type": "markdown",
   "metadata": {},
   "source": [
    "# The TensorFlow way\n",
    "\n",
    "### © Jubeen Shah 2018\n",
    "\n",
    "Hey there! Welcome to `J.S Codes` jupyter notebooks for TensorFlow!\n",
    "<br>"
   ]
  },
  {
   "cell_type": "code",
   "execution_count": 14,
   "metadata": {},
   "outputs": [],
   "source": [
    "import tensorflow as tf\n",
    "import numpy as np\n",
    "sess = tf.Session()"
   ]
  },
  {
   "cell_type": "markdown",
   "metadata": {},
   "source": [
    "In this notebook we'll learn how to connect and work with various layers, and also build some custom ones. The data we will generate and use will be representative of small random images, it is best to understand these types of operations on a simple example and how we can use some built in layers to perform calculations."
   ]
  },
  {
   "cell_type": "markdown",
   "metadata": {},
   "source": [
    " - First lets create our sample 2D image, which is 4px X 4px in size. We will create it in 4 dimensions, them being, the image number, height, width and the channel."
   ]
  },
  {
   "cell_type": "code",
   "execution_count": 15,
   "metadata": {},
   "outputs": [],
   "source": [
    "x_shape = [1, 4, 4, 1]\n",
    "x_val = np.random.uniform(size= x_shape)"
   ]
  },
  {
   "cell_type": "markdown",
   "metadata": {},
   "source": [
    " - Now let's create a placeholder in our graph where we can feed in the sample image, as follows"
   ]
  },
  {
   "cell_type": "code",
   "execution_count": 16,
   "metadata": {},
   "outputs": [],
   "source": [
    "x_data = tf.placeholder(tf.float32, shape= x_shape)"
   ]
  },
  {
   "cell_type": "markdown",
   "metadata": {},
   "source": [
    " - To create a moving window to average across the 4x4 image, we will use a built in function that will convolute a constant across a window of the shape 2x2. This function is quite common in image processing, and the function we would be using is `conv2d()`. This function would take a piecewise product of the window and a filter we specify. We must also specify a `stride` for moving the window in both the diractions. Here, we will compute four moving averages, top left, top right, bottom left, bottom right four pixels. we do this by creating a 2x2 window having a stride of length 2 in each directioon. to take the average, we will convolute the 2x2 window with a constant of 0.25"
   ]
  },
  {
   "cell_type": "code",
   "execution_count": 17,
   "metadata": {},
   "outputs": [],
   "source": [
    "my_filter = tf.constant(0.25, shape= [2,2,1,1])\n",
    "my_strides = [1,2,2,1]\n",
    "mov_avg_lyr = tf.nn.conv2d(input=x_data,filter=my_filter, strides=my_strides, padding='SAME', name='moving_avg_window')"
   ]
  },
  {
   "cell_type": "markdown",
   "metadata": {},
   "source": [
    "To figure out the output size of a convolutional layer we can use the following formula,\n",
    "\n",
    "\n",
    "\n",
    "$Output = \\frac {W - F + 2P}{ S + 1}$\n",
    "\n",
    "where, <br>\n",
    "W - Window Size, <br>\n",
    "F - Filter Size, <br>\n",
    "P - Padding of Zeros, and<br>\n",
    "s - Stride <br>\n",
    "\n"
   ]
  },
  {
   "cell_type": "markdown",
   "metadata": {},
   "source": [
    " - Let us now define a custom layer that will operate on the 2x2 output of the moving average window. The custom function will first multiply the input by another 2x2 matrix sensor, and them add one to each entry. After this, we take the sigmoid of each element and return the 2x2 matric. Since matrix multiplication only operates on two-dimensional matrices, we need to drop the extra dimension of our image that are of size 1. TensorFlow can do this with the built in function `tf.squeeze()`"
   ]
  },
  {
   "cell_type": "code",
   "execution_count": 18,
   "metadata": {},
   "outputs": [],
   "source": [
    "def custom_layer(input_matrix):\n",
    "    input_matrix_squeezed = tf.squeeze(input_matrix)\n",
    "    A = tf.constant([[1.,2.],[-1.,3.,]])\n",
    "    b = tf.constant(1., shape=[2,2])\n",
    "    temp1 = tf.matmul(A, input_matrix_squeezed)\n",
    "    temp = tf.add(temp1, b)\n",
    "    return(tf.sigmoid(temp))"
   ]
  },
  {
   "cell_type": "markdown",
   "metadata": {},
   "source": [
    " - Now, we place the new layer on the graph. We will do this with the help of named scope so that it identifiable and collapsabe/ expandable on the computational graph."
   ]
  },
  {
   "cell_type": "code",
   "execution_count": 19,
   "metadata": {},
   "outputs": [],
   "source": [
    "with tf.name_scope('Custom_Layer') as scope:\n",
    "    custom_layer1 = custom_layer(mov_avg_lyr)"
   ]
  },
  {
   "cell_type": "markdown",
   "metadata": {},
   "source": [
    " - No we just feed in4x4 image in the placeholder and tell tensorFlow to run the graph."
   ]
  },
  {
   "cell_type": "code",
   "execution_count": 20,
   "metadata": {},
   "outputs": [
    {
     "name": "stdout",
     "output_type": "stream",
     "text": [
      "[[0.9464942  0.9147585 ]\n",
      " [0.90335053 0.91176784]]\n"
     ]
    }
   ],
   "source": [
    " print(sess.run(custom_layer1, feed_dict={x_data : x_val}))"
   ]
  },
  {
   "cell_type": "code",
   "execution_count": null,
   "metadata": {},
   "outputs": [],
   "source": []
  }
 ],
 "metadata": {
  "kernelspec": {
   "display_name": "Python 3",
   "language": "python",
   "name": "python3"
  },
  "language_info": {
   "codemirror_mode": {
    "name": "ipython",
    "version": 3
   },
   "file_extension": ".py",
   "mimetype": "text/x-python",
   "name": "python",
   "nbconvert_exporter": "python",
   "pygments_lexer": "ipython3",
   "version": "3.5.5"
  }
 },
 "nbformat": 4,
 "nbformat_minor": 2
}
