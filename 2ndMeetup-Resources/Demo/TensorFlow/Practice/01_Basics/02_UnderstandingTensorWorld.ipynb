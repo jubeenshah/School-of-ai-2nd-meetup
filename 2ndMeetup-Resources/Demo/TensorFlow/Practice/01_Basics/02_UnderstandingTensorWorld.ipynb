{
 "cells": [
  {
   "cell_type": "markdown",
   "metadata": {},
   "source": [
    "# Hello, Tensor!\n",
    "\n",
    "### © Jubeen Shah 2018\n",
    "\n",
    "Hola! Welcome to `J.S Codes` jupyter notebooks for TensorFlow!\n",
    "\n",
    "## Understanding tensors\n",
    "\n",
    "In TensorFlow, we do not have the ideas of integers, floats, or strings. Instead, these values are encapsulated in an object known as `tensor`. \n",
    "\n",
    "`\n",
    "import tensorflow as tf\n",
    "hello_constant = tf.constant(\"Hello World!\")\n",
    "with tf.Session() as sess:\n",
    "    output = sess.run(hello_constant)\n",
    "    print(output)`\n",
    "    \n",
    "In the above code, `hello_constant = tf.constant(\"Hello World!\")` is the 0-dimensional string tensor that we created. But they can be of other dimensions as well."
   ]
  },
  {
   "cell_type": "code",
   "execution_count": 1,
   "metadata": {},
   "outputs": [],
   "source": [
    "import tensorflow as tf\n",
    "# X is 0-dimensional int32 tensor\n",
    "X = tf.constant(1)\n",
    "# Y is a 1-dimensional int32 tensor\n",
    "Y = tf.constant([1,2,3])\n",
    "# Z is a 2-dimensional int32 tensor\n",
    "Z = tf.constant([ [1,2,3], [4,5,6]])"
   ]
  },
  {
   "cell_type": "code",
   "execution_count": 4,
   "metadata": {},
   "outputs": [
    {
     "data": {
      "text/plain": [
       "<tf.Tensor 'Const:0' shape=() dtype=int32>"
      ]
     },
     "execution_count": 4,
     "metadata": {},
     "output_type": "execute_result"
    }
   ],
   "source": [
    "X"
   ]
  },
  {
   "cell_type": "code",
   "execution_count": 5,
   "metadata": {},
   "outputs": [
    {
     "data": {
      "text/plain": [
       "<tf.Tensor 'Const_1:0' shape=(3,) dtype=int32>"
      ]
     },
     "execution_count": 5,
     "metadata": {},
     "output_type": "execute_result"
    }
   ],
   "source": [
    "Y"
   ]
  },
  {
   "cell_type": "code",
   "execution_count": 6,
   "metadata": {},
   "outputs": [
    {
     "data": {
      "text/plain": [
       "<tf.Tensor 'Const_2:0' shape=(2, 3) dtype=int32>"
      ]
     },
     "execution_count": 6,
     "metadata": {},
     "output_type": "execute_result"
    }
   ],
   "source": [
    "Z"
   ]
  },
  {
   "cell_type": "markdown",
   "metadata": {},
   "source": [
    "`tf.constant()` is a TensorFlow operation, that returns a constant tensor, i.e an immutable tensor"
   ]
  },
  {
   "cell_type": "markdown",
   "metadata": {},
   "source": [
    "## Session\n",
    "\n",
    "TensorFlow's api is built around the notion of [computational graphs](https://www.tensorflow.org/programmers_guide/graphs), a way of visualizing mathematical process.\n",
    "\n",
    "`\n",
    "with tf.Session() as sess:\n",
    "    output = sess.run(hello_constant)\n",
    "    print(output)\n",
    "`\n",
    "<br>\n",
    "\n",
    "The code has already created the tensor, `hello_constant`, from the previous lines. The next step is to evaluate the tensor in a session.\n",
    "\n",
    "The code creates a session instance, `sess`, using `tf.Session`. The `sess.run()` function then evaluates the tensor and returns the results."
   ]
  },
  {
   "cell_type": "code",
   "execution_count": 8,
   "metadata": {},
   "outputs": [
    {
     "name": "stdout",
     "output_type": "stream",
     "text": [
      "b'Hello World!'\n"
     ]
    }
   ],
   "source": [
    "hello_constant = tf.constant(\"Hello World!\")\n",
    "with tf.Session() as sess:\n",
    "    output = sess.run(hello_constant)\n",
    "    print(output)"
   ]
  },
  {
   "cell_type": "markdown",
   "metadata": {},
   "source": [
    "## Awesome!\n",
    "\n",
    "Hey nice, work! Let's call this a `\"Session\"`! We'll meet again in the next notebook, ¡Adios, Amigos!"
   ]
  }
 ],
 "metadata": {
  "kernelspec": {
   "display_name": "Python 3",
   "language": "python",
   "name": "python3"
  },
  "language_info": {
   "codemirror_mode": {
    "name": "ipython",
    "version": 3
   },
   "file_extension": ".py",
   "mimetype": "text/x-python",
   "name": "python",
   "nbconvert_exporter": "python",
   "pygments_lexer": "ipython3",
   "version": "3.6.5"
  }
 },
 "nbformat": 4,
 "nbformat_minor": 2
}
