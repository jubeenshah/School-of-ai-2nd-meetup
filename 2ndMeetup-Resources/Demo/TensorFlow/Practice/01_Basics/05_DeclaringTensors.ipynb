{
 "cells": [
  {
   "cell_type": "markdown",
   "metadata": {},
   "source": [
    "# Declaring Tensors\n",
    "\n",
    "### © Jubeen Shah 2018\n",
    "\n",
    "Hey there! Welcome to `J.S Codes` jupyter notebooks for TensorFlow!\n",
    "<br>\n"
   ]
  },
  {
   "cell_type": "markdown",
   "metadata": {},
   "source": [
    "In `TensorFlow`, the primary data structures that are used are `Tensors`, which are used to operate on the __Computational Graphs__. We can define these tensors in two ways:\n",
    " - *Variables*\n",
    " - Feed them in using *Placeholders*\n",
    "<br>\n",
    "\n",
    "We already saw the use of placeholders with `tf.placeholder()` in the previous notebooks. But there are other ways of declaring some *standard forms* of Tensors. In this notebook we will see how to do that! "
   ]
  },
  {
   "cell_type": "code",
   "execution_count": 51,
   "metadata": {},
   "outputs": [],
   "source": [
    "import tensorflow as tf"
   ]
  },
  {
   "cell_type": "markdown",
   "metadata": {},
   "source": [
    "## 1. Fixed Tensors\n",
    " - To create a Zero filled tensor, use the following."
   ]
  },
  {
   "cell_type": "code",
   "execution_count": 52,
   "metadata": {},
   "outputs": [
    {
     "name": "stdout",
     "output_type": "stream",
     "text": [
      "[[0. 0. 0. 0. 0.]\n",
      " [0. 0. 0. 0. 0.]\n",
      " [0. 0. 0. 0. 0.]\n",
      " [0. 0. 0. 0. 0.]\n",
      " [0. 0. 0. 0. 0.]]\n"
     ]
    }
   ],
   "source": [
    "zero_tensor = tf.zeros([5,5])\n",
    "with tf.Session() as sess:\n",
    "    zero = sess.run(zero_tensor)\n",
    "    print(zero)"
   ]
  },
  {
   "cell_type": "code",
   "execution_count": 53,
   "metadata": {},
   "outputs": [],
   "source": [
    "??tf.zeros() #Run this cell to know more about this function"
   ]
  },
  {
   "cell_type": "markdown",
   "metadata": {},
   "source": [
    " - To create a one filled tensor, use the following"
   ]
  },
  {
   "cell_type": "code",
   "execution_count": 54,
   "metadata": {},
   "outputs": [
    {
     "name": "stdout",
     "output_type": "stream",
     "text": [
      "[[1. 1. 1. 1. 1.]\n",
      " [1. 1. 1. 1. 1.]\n",
      " [1. 1. 1. 1. 1.]\n",
      " [1. 1. 1. 1. 1.]\n",
      " [1. 1. 1. 1. 1.]]\n"
     ]
    }
   ],
   "source": [
    "ones_tensor = tf.ones([5,5])\n",
    "sess = tf.Session()\n",
    "one = sess.run(ones_tensor)\n",
    "print(one)"
   ]
  },
  {
   "cell_type": "code",
   "execution_count": 55,
   "metadata": {},
   "outputs": [],
   "source": [
    "??tf.ones() #Run this cell to know more about this function"
   ]
  },
  {
   "cell_type": "markdown",
   "metadata": {},
   "source": [
    " - To create a constant filled tensor, use the following"
   ]
  },
  {
   "cell_type": "code",
   "execution_count": 56,
   "metadata": {},
   "outputs": [
    {
     "name": "stdout",
     "output_type": "stream",
     "text": [
      "[[42 42 42 42 42 42 42]\n",
      " [42 42 42 42 42 42 42]\n",
      " [42 42 42 42 42 42 42]\n",
      " [42 42 42 42 42 42 42]\n",
      " [42 42 42 42 42 42 42]\n",
      " [42 42 42 42 42 42 42]\n",
      " [42 42 42 42 42 42 42]]\n"
     ]
    }
   ],
   "source": [
    "const_tensor = tf.fill([7,7], 42)\n",
    "const = sess.run(const_tensor)\n",
    "print(const)"
   ]
  },
  {
   "cell_type": "code",
   "execution_count": 57,
   "metadata": {},
   "outputs": [],
   "source": [
    "?? tf.fill() #Run this cell to know more about this function"
   ]
  },
  {
   "cell_type": "markdown",
   "metadata": {},
   "source": [
    "## 2. Tensors of similar shape\n",
    " - We can also initialise variables based on the shape of other tensors, as follows"
   ]
  },
  {
   "cell_type": "code",
   "execution_count": 58,
   "metadata": {},
   "outputs": [
    {
     "name": "stdout",
     "output_type": "stream",
     "text": [
      "[[0 0 0 0 0 0 0]\n",
      " [0 0 0 0 0 0 0]\n",
      " [0 0 0 0 0 0 0]\n",
      " [0 0 0 0 0 0 0]\n",
      " [0 0 0 0 0 0 0]\n",
      " [0 0 0 0 0 0 0]\n",
      " [0 0 0 0 0 0 0]]\n",
      "\n",
      "[[1 1 1 1 1 1 1]\n",
      " [1 1 1 1 1 1 1]\n",
      " [1 1 1 1 1 1 1]\n",
      " [1 1 1 1 1 1 1]\n",
      " [1 1 1 1 1 1 1]\n",
      " [1 1 1 1 1 1 1]\n",
      " [1 1 1 1 1 1 1]]\n"
     ]
    }
   ],
   "source": [
    "zeros_similar = tf.zeros_like(const_tensor)\n",
    "zeros_sim = sess.run(zeros_similar)\n",
    "print(zeros_sim)\n",
    "print()\n",
    "ones_similar = tf.ones_like(const_tensor)\n",
    "ones_sim = sess.run(ones_similar)\n",
    "print(ones_sim)"
   ]
  },
  {
   "cell_type": "markdown",
   "metadata": {},
   "source": [
    "## 3. Sequence Tensors\n",
    " - TensorFlow allows us to define tensors of specified shape using `tf.linspace()` for creating values at __regular__ intervals in a *linear space*"
   ]
  },
  {
   "cell_type": "code",
   "execution_count": 65,
   "metadata": {},
   "outputs": [
    {
     "name": "stdout",
     "output_type": "stream",
     "text": [
      "[0.         0.03448276 0.06896552 0.10344827 0.13793103 0.1724138\n",
      " 0.20689654 0.2413793  0.27586207 0.31034482 0.3448276  0.37931034\n",
      " 0.4137931  0.44827586 0.4827586  0.51724136 0.55172414 0.5862069\n",
      " 0.62068963 0.6551724  0.6896552  0.7241379  0.7586207  0.79310346\n",
      " 0.8275862  0.86206895 0.8965517  0.9310345  0.9655172  1.        ]\n"
     ]
    }
   ],
   "source": [
    "# Allows to create a tensor that contains values at regular intervals, specified by num = (Value) \n",
    "start = 0.0 #Enter a float\n",
    "stop = 1.0  #Enter a float\n",
    "num = 30    #Enter a int\n",
    "linear_tensor = tf.linspace(start=start, stop=stop, num = num) \n",
    "print_linear_tensor = sess.run(linear_tensor)\n",
    "print(print_linear_tensor)"
   ]
  },
  {
   "cell_type": "code",
   "execution_count": 66,
   "metadata": {},
   "outputs": [],
   "source": [
    "??tf.linspace #Run this cell to know more about this function"
   ]
  },
  {
   "cell_type": "markdown",
   "metadata": {},
   "source": [
    " - To create an integer sequence, use the following"
   ]
  },
  {
   "cell_type": "code",
   "execution_count": 67,
   "metadata": {},
   "outputs": [
    {
     "name": "stdout",
     "output_type": "stream",
     "text": [
      "[  6.    8.5  11.   13.5  16.   18.5  21.   23.5  26.   28.5  31.   33.5\n",
      "  36.   38.5  41.   43.5  46.   48.5  51.   53.5  56.   58.5  61.   63.5\n",
      "  66.   68.5  71.   73.5  76.   78.5  81.   83.5  86.   88.5  91.   93.5\n",
      "  96.   98.5 101.  103.5 106.  108.5 111.  113.5 116.  118.5 121.  123.5\n",
      " 126.  128.5 131.  133.5 136.  138.5 141.  143.5 146.  148.5]\n"
     ]
    }
   ],
   "source": [
    "start = 6.0\n",
    "limit = 150\n",
    "delta = 2.5\n",
    "integer_sequence_tensor = tf.range(start = start , limit = limit, delta = delta) \n",
    "print_integer_sequence_tensor = sess.run(integer_sequence_tensor)\n",
    "print(print_integer_sequence_tensor)"
   ]
  },
  {
   "cell_type": "code",
   "execution_count": 68,
   "metadata": {},
   "outputs": [
    {
     "name": "stdout",
     "output_type": "stream",
     "text": [
      "[ 6 10 14 18]\n"
     ]
    }
   ],
   "source": [
    "start = 6\n",
    "limit = 20\n",
    "delta = 4\n",
    "integer_sequence_tensor = tf.range(start = start , limit = limit, delta = delta) \n",
    "print_integer_sequence_tensor = sess.run(integer_sequence_tensor)\n",
    "print(print_integer_sequence_tensor)"
   ]
  },
  {
   "cell_type": "code",
   "execution_count": 69,
   "metadata": {},
   "outputs": [],
   "source": [
    "??tf.range"
   ]
  },
  {
   "cell_type": "markdown",
   "metadata": {},
   "source": [
    "## 4. Random Tensors\n",
    " - Random Uniform Distribution"
   ]
  },
  {
   "cell_type": "code",
   "execution_count": 82,
   "metadata": {},
   "outputs": [
    {
     "name": "stdout",
     "output_type": "stream",
     "text": [
      "[[2.38061   1.6223726 3.6629162 3.7106738 3.6365976]]\n"
     ]
    }
   ],
   "source": [
    "# Outputs random values from a uniform distribution.\n",
    "row = 1\n",
    "col = 5\n",
    "minval = 0\n",
    "maxval = 4\n",
    "rand_uniform_distribution = tf.random_uniform([row,col], minval=minval, maxval=maxval)\n",
    "print_rand_uniform_distribution = sess.run(rand_uniform_distribution)\n",
    "print(print_rand_uniform_distribution)"
   ]
  },
  {
   "cell_type": "code",
   "execution_count": 81,
   "metadata": {},
   "outputs": [],
   "source": [
    "??tf.random_uniform #Run this cell to know more about this function"
   ]
  },
  {
   "cell_type": "markdown",
   "metadata": {},
   "source": [
    " - Random Normal Distribution"
   ]
  },
  {
   "cell_type": "code",
   "execution_count": 87,
   "metadata": {},
   "outputs": [
    {
     "name": "stdout",
     "output_type": "stream",
     "text": [
      "[[ 0.8290883  -1.1310698  -0.81308913 -0.02191718  0.56976753]]\n"
     ]
    }
   ],
   "source": [
    "# Outputs random values from a Normal distribution.\n",
    "row = 1\n",
    "col = 5\n",
    "mean = 0.0\n",
    "std_dev = 1.0\n",
    "\n",
    "rand_norm_distribution = tf.random_normal([row,col], mean = mean, stddev= std_dev)\n",
    "print_rand_norm_distribution = sess.run(rand_norm_distribution)\n",
    "print(print_rand_norm_distribution)"
   ]
  },
  {
   "cell_type": "code",
   "execution_count": 88,
   "metadata": {},
   "outputs": [],
   "source": [
    "??tf.random_normal"
   ]
  },
  {
   "cell_type": "code",
   "execution_count": 89,
   "metadata": {},
   "outputs": [
    {
     "name": "stdout",
     "output_type": "stream",
     "text": [
      "[[ 0.8814421  -0.4408187  -1.1982943  -0.9001718   0.13855277]]\n"
     ]
    }
   ],
   "source": [
    "# Outputs random values from a truncated normal distribution.\n",
    "row = 1\n",
    "col = 5\n",
    "mean = 0.0\n",
    "std_dev = 1.0\n",
    "\n",
    "rand_norm_distribution = tf.truncated_normal([row,col], mean = mean, stddev= std_dev)\n",
    "print_rand_norm_distribution = sess.run(rand_norm_distribution)\n",
    "print(print_rand_norm_distribution)"
   ]
  },
  {
   "cell_type": "code",
   "execution_count": 91,
   "metadata": {},
   "outputs": [],
   "source": [
    "??tf.truncated_normal"
   ]
  },
  {
   "cell_type": "markdown",
   "metadata": {},
   "source": [
    "### ¡Basta para ahora Amigos!\n",
    "\n",
    "In the next notebook, we'll continue with placeholders and variables! \n",
    "##### ¡Hasta Pronto!\n"
   ]
  }
 ],
 "metadata": {
  "kernelspec": {
   "display_name": "Python 3",
   "language": "python",
   "name": "python3"
  },
  "language_info": {
   "codemirror_mode": {
    "name": "ipython",
    "version": 3
   },
   "file_extension": ".py",
   "mimetype": "text/x-python",
   "name": "python",
   "nbconvert_exporter": "python",
   "pygments_lexer": "ipython3",
   "version": "3.6.5"
  }
 },
 "nbformat": 4,
 "nbformat_minor": 2
}
