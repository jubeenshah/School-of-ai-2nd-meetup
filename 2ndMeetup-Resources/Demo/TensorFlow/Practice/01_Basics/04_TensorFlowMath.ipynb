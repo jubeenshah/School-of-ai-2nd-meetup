{
 "cells": [
  {
   "cell_type": "markdown",
   "metadata": {},
   "source": [
    "# TensorFlow Math\n",
    "\n",
    "### © Jubeen Shah 2018\n",
    "\n",
    "Hey there! Welcome to `J.S Codes` jupyter notebooks for TensorFlow!\n",
    "<br>\n",
    "TensorFlow provides several operations that you can use to add basic arithmetic operators to your graph.\n",
    " - `tf.add`\n",
    " - `tf.subtract`\n",
    " - `tf.multiply`\n",
    " - `tf.scalar_mul`\n",
    " - `tf.div`\n",
    " - `tf.divide`\n",
    " - `tf.truediv`\n",
    " - `tf.floordiv`\n",
    " - `tf.realdiv`\n",
    " - `tf.truncatediv`\n",
    " - `tf.floor_div`\n",
    " - `tf.truncatemod`\n",
    " - `tf.floormod`\n",
    " - `tf.mod`\n",
    " - `tf.cross`\n",
    "\n",
    "You can go through the [documentation](https://www.tensorflow.org/api_guides/python/math_ops), if you would like to learn more."
   ]
  },
  {
   "cell_type": "code",
   "execution_count": 1,
   "metadata": {},
   "outputs": [],
   "source": [
    "import tensorflow as tf"
   ]
  },
  {
   "cell_type": "code",
   "execution_count": 12,
   "metadata": {},
   "outputs": [
    {
     "name": "stdout",
     "output_type": "stream",
     "text": [
      "15\n",
      "5\n",
      "50\n",
      "2.0\n"
     ]
    }
   ],
   "source": [
    "x = tf.constant(10)\n",
    "y = tf.constant(5)\n",
    "x_add = tf.add(x,y)\n",
    "x_sub = tf.subtract(x,y)\n",
    "x_mul = tf.multiply(x,y)\n",
    "x_div = tf.divide( tf.cast(x, tf.float32), tf.cast(y, tf.float32))\n",
    " \n",
    "with tf.Session() as sess:\n",
    "    add = sess.run(x_add)\n",
    "    print(add)\n",
    "    sub = sess.run(x_sub)\n",
    "    print(sub)\n",
    "    mul = sess.run(x_mul)\n",
    "    print(mul)\n",
    "    div = sess.run(x_div)\n",
    "    print(div)\n"
   ]
  },
  {
   "cell_type": "markdown",
   "metadata": {},
   "source": [
    "### TODO: Convert the following to TensorFlow:\n",
    "x = 10 <br>\n",
    "y = 2 <br>\n",
    "z = $ \\frac {x}{y} - 1$\n",
    "#### Hint : use tf.cast to cast float32 to int \n",
    "`run the cell below` for more clue"
   ]
  },
  {
   "cell_type": "code",
   "execution_count": 7,
   "metadata": {},
   "outputs": [],
   "source": [
    "??tf.cast()"
   ]
  },
  {
   "cell_type": "code",
   "execution_count": 9,
   "metadata": {},
   "outputs": [
    {
     "name": "stdout",
     "output_type": "stream",
     "text": [
      "4\n"
     ]
    }
   ],
   "source": [
    "x = 10\n",
    "y = 2\n",
    "z = x/y - 1\n",
    "\n",
    "print(int(z))"
   ]
  },
  {
   "cell_type": "code",
   "execution_count": 10,
   "metadata": {},
   "outputs": [
    {
     "name": "stdout",
     "output_type": "stream",
     "text": [
      "4\n"
     ]
    }
   ],
   "source": [
    "x = tf.constant(10)\n",
    "y = tf.constant(2)\n",
    "z = tf.subtract(tf.cast(tf.divide(x,y), tf.int32),tf.constant(1))\n",
    "\n",
    "with tf.Session() as sess:\n",
    "    output = sess.run(z)\n",
    "    print(output)"
   ]
  },
  {
   "cell_type": "markdown",
   "metadata": {},
   "source": [
    "## ¡Awesome Amigos!\n",
    "\n",
    "That's it for this notebook! <br>\n",
    "\n",
    "### Good job! You've accomplished a lot. In particular, you did the following:\n",
    "\n",
    " - Ran *operations* in `tf.Session`.\n",
    " - Created a *constant tensor* with `tf.constant()`.\n",
    " - Used `tf.placeholder()` and `feed_dict` to get __input__.\n",
    " - Applied the `tf.add()`, `tf.subtract()`, `tf.multiply()`, and `tf.divide()` functions using numeric data.\n",
    " - Learned about *casting* between types with `tf.cast()`\n",
    " \n",
    "From the next notebook, we'll start with some more * \"basevanced\" * (basic but advanced-basics) __:P__ of TensorFlow <br>\n",
    "\n",
    "¡Adios Amigos!"
   ]
  }
 ],
 "metadata": {
  "kernelspec": {
   "display_name": "Python 3",
   "language": "python",
   "name": "python3"
  },
  "language_info": {
   "codemirror_mode": {
    "name": "ipython",
    "version": 3
   },
   "file_extension": ".py",
   "mimetype": "text/x-python",
   "name": "python",
   "nbconvert_exporter": "python",
   "pygments_lexer": "ipython3",
   "version": "3.6.5"
  }
 },
 "nbformat": 4,
 "nbformat_minor": 2
}
