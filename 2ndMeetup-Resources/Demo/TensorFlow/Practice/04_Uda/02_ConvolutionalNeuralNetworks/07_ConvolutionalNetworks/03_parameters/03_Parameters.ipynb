{
 "cells": [
  {
   "cell_type": "markdown",
   "metadata": {},
   "source": [
    "# Parameters\n",
    "\n",
    "### © Jubeen Shah 2018\n",
    "\n",
    "Hey there! Welcome to `J.S Codes` jupyter notebooks for TensorFlow!\n",
    "<img src = 'images/overview.png'>\n",
    "\n",
    "When we are trying to classify a picture of a cat, we don’t care where in the image a cat is. If it’s in the top left or the bottom right, it’s still a cat in our eyes. We would like our CNNs to also possess this ability known as translation invariance. How can we achieve this?\n",
    "\n",
    "As we saw earlier, the classification of a given patch in an image is determined by the weights and biases corresponding to that patch.\n",
    "\n",
    "If we want a cat that’s in the top left patch to be classified in the same way as a cat in the bottom right patch, we need the weights and biases corresponding to those patches to be the same, so that they are classified the same way.\n",
    "\n",
    "This is exactly what we do in CNNs. The weights and biases we learn for a given output layer are shared across all patches in a given input layer. Note that as we increase the depth of our filter, the number of weights and biases we have to learn still increases, as the weights aren't shared across the output channels.\n",
    "\n",
    "There’s an additional benefit to sharing our parameters. If we did not reuse the same weights across all patches, we would have to learn new parameters for every single patch and hidden layer neuron pair. This does not scale well, especially for higher fidelity images. Thus, sharing parameters not only helps us with translation invariance, but also gives us a smaller, more scalable model.\n",
    "\n",
    "### Padding\n",
    "<img src = 'images/02.png'>\n",
    "\n",
    "`QUIZ QUESTION `\n",
    "Let's say we have a 5x5 grid (as shown above) and a filter of size 3x3 with a stride of 1. What's the width and height of the next layer?\n",
    "`3X3`\n",
    "\n",
    "As we can see, the width and height of each subsequent layer decreases in the above scheme.\n",
    "\n",
    "In an ideal world, we'd be able to maintain the same width and height across layers so that we can continue to add layers without worrying about the dimensionality shrinking and so that we have consistency. How might we achieve this? One way is to simply add a border of 0s to our original 5x5 image. You can see what this looks like in the below image.\n",
    "\n",
    "<img src = 'images/03.png'\n",
    "\n",
    "This would expand our original image to a 7x7. With this, we now see how our next layer's size is again a 5x5, keeping our dimensionality consistent.\n",
    "\n",
    "### Dimensionality\n",
    "\n",
    "From what we've learned so far, how can we calculate the number of neurons of each layer in our CNN?\n",
    "\n",
    "Given:\n",
    "\n",
    " - our input layer has a width of W and a height of `H`\n",
    " - our convolutional layer has a filter size `F`\n",
    " - we have a stride of `S`\n",
    " - a padding of `P`\n",
    " - and the number of filters `K`,\n",
    " \n",
    "the following formula gives us the width of the next layer: $W_{out} = \\frac{(W−F+2P)}{S} + 1$\n",
    "\n",
    "The output height would be $H_{out} = \\frac{(H-F+2P)}{S} + 1$\n",
    "\n",
    "And the output depth would be equal to the number of filters $D_{out} = K$\n",
    "\n",
    "The output volume would be $W_{out} * H_{out} * D_{out} $\n",
    "\n",
    "Knowing the dimensionality of each additional layer helps us understand how large our model is and how our decisions around filter size and stride affect the size of our network."
   ]
  },
  {
   "cell_type": "code",
   "execution_count": 1,
   "metadata": {},
   "outputs": [],
   "source": [
    "input_height = 32\n",
    "input_width = 32\n",
    "input_depth = 3"
   ]
  },
  {
   "cell_type": "code",
   "execution_count": 2,
   "metadata": {},
   "outputs": [],
   "source": [
    "n_filter = 20\n",
    "filter_height = 8\n",
    "filter_width = 8\n",
    "filter_depth = 3"
   ]
  },
  {
   "cell_type": "code",
   "execution_count": 11,
   "metadata": {},
   "outputs": [],
   "source": [
    "stride = 2\n",
    "padding_size =1"
   ]
  },
  {
   "cell_type": "code",
   "execution_count": 12,
   "metadata": {},
   "outputs": [
    {
     "name": "stdout",
     "output_type": "stream",
     "text": [
      "14.0\n"
     ]
    }
   ],
   "source": [
    "output_height = (input_height - filter_height + 2 * padding_size) / stride + 1\n",
    "print(output_height)"
   ]
  },
  {
   "cell_type": "code",
   "execution_count": 13,
   "metadata": {},
   "outputs": [
    {
     "name": "stdout",
     "output_type": "stream",
     "text": [
      "14.0\n"
     ]
    }
   ],
   "source": [
    "output_width = (((input_width - filter_width) + (2*padding_size)) / stride) + 1\n",
    "print(output_width)"
   ]
  },
  {
   "cell_type": "code",
   "execution_count": 20,
   "metadata": {},
   "outputs": [
    {
     "data": {
      "text/plain": [
       "756560"
      ]
     },
     "execution_count": 20,
     "metadata": {},
     "output_type": "execute_result"
    }
   ],
   "source": [
    "14*14*20* (8*8*3 +1)"
   ]
  },
  {
   "cell_type": "code",
   "execution_count": 23,
   "metadata": {},
   "outputs": [
    {
     "data": {
      "text/plain": [
       "3860"
      ]
     },
     "execution_count": 23,
     "metadata": {},
     "output_type": "execute_result"
    }
   ],
   "source": [
    "(8*8*3 + 1)*20"
   ]
  }
 ],
 "metadata": {
  "kernelspec": {
   "display_name": "Python 3",
   "language": "python",
   "name": "python3"
  },
  "language_info": {
   "codemirror_mode": {
    "name": "ipython",
    "version": 3
   },
   "file_extension": ".py",
   "mimetype": "text/x-python",
   "name": "python",
   "nbconvert_exporter": "python",
   "pygments_lexer": "ipython3",
   "version": "3.5.5"
  }
 },
 "nbformat": 4,
 "nbformat_minor": 2
}
