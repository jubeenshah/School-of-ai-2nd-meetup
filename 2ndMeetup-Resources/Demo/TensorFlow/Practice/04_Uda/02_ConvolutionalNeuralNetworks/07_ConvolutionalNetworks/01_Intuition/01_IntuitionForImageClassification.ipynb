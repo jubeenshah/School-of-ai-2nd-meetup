{
 "cells": [
  {
   "cell_type": "markdown",
   "metadata": {},
   "source": [
    "# Intuition for Image Classification\n",
    "\n",
    "### © Jubeen Shah 2018\n",
    "\n",
    "Hey there! Welcome to `J.S Codes` jupyter notebooks for TensorFlow!\n",
    "### Intuition\n",
    "Let's develop better intuition for how Convolutional Neural Networks (CNN) work. We'll examine how humans classify images, and then see how CNNs use similar approaches.\n",
    "\n",
    "Let’s say we wanted to classify the following image of a dog as a Golden Retriever.\n",
    "\n",
    "<img src = 'images/dog.jpg'>"
   ]
  },
  {
   "cell_type": "markdown",
   "metadata": {},
   "source": [
    "As humans, how do we do this?\n",
    "\n",
    "One thing we do is that we identify certain parts of the dog, such as the nose, the eyes, and the fur. We essentially break up the image into smaller pieces, recognize the smaller pieces, and then combine those pieces to get an idea of the overall dog.\n",
    "\n",
    "In this case, we might break down the image into a combination of the following:\n",
    "\n",
    " - A nose\n",
    " - Two eyes\n",
    " - Golden fur\n",
    "These pieces can be seen below:\n",
    "\n",
    "<img src = \"images/nose.png\" style=\"height: 15%;width: 15%\">\n",
    "<center>A nose\n",
    "\n",
    "<img src = 'images/eye.png' style=\"height: 15%;width: 15%\">\n",
    "<center>An Eye\n",
    "\n",
    "<img src = 'images/fur.png' style=\"height: 15%;width: 15%\">\n",
    "<center>The Golden Fur\n",
    "    \n",
    "### Going One Step Further\n",
    "But let’s take this one step further. How do we determine what exactly a nose is? A Golden Retriever nose can be seen as an oval with two black holes inside it. Thus, one way of classifying a Retriever’s nose is to to break it up into smaller pieces and look for black holes (nostrils) and curves that define an oval as shown below.\n",
    "\n",
    "<img src = 'images/curve-nose.png' style=\"height: 15%;width: 15%\">\n",
    "<Center>The curve that helps recognise the nose\n",
    "    \n",
    "<img src = 'images/hole-nose.png' style=\"height: 5%;width: 10%\">\n",
    "<Center>The hole that helps recognise the nose\n",
    "    \n",
    "Broadly speaking, this is what a CNN learns to do. It learns to recognize basic lines and curves, then shapes and blobs, and then increasingly complex objects within the image. Finally, the CNN classifies the image by combining the larger, more complex objects.\n",
    "\n",
    "In our case, the levels in the hierarchy are:\n",
    "\n",
    " - Simple shapes, like ovals and dark circles\n",
    " - Complex objects (combinations of simple shapes), like eyes, nose, and fur\n",
    " - The dog as a whole (a combination of complex objects)\n",
    "With deep learning, we don't actually program the CNN to recognize these specific features. Rather, the CNN learns on its own to recognize such objects through forward propagation and backpropagation!\n",
    "\n",
    "It's amazing how well a CNN can learn to classify images, even though we never program the CNN with information about specific features to look for.\n",
    "\n",
    "<img src = 'images/heirarchy-diagram.jpg'>\n",
    "\n",
    "A CNN might have several layers, and each layer might capture a different level in the hierarchy of objects. The first layer is the lowest level in the hierarchy, where the CNN generally classifies small parts of the image into simple shapes like horizontal and vertical lines and simple blobs of colors. The subsequent layers tend to be higher levels in the hierarchy and generally classify more complex ideas like shapes (combinations of lines), and eventually full objects like dogs.\n",
    "\n",
    "Once again, the CNN __learns all of this on its own__. We don't ever have to tell the CNN to go looking for lines or curves or noses or fur. The CNN just learns from the training set and discovers which characteristics of a Golden Retriever are worth looking for.\n",
    "\n",
    "That's a good start! Hopefully you've developed some intuition about how CNNs work.\n",
    "\n",
    "In the next notebook, we'll look at some implementation details."
   ]
  }
 ],
 "metadata": {
  "kernelspec": {
   "display_name": "Python 3",
   "language": "python",
   "name": "python3"
  },
  "language_info": {
   "codemirror_mode": {
    "name": "ipython",
    "version": 3
   },
   "file_extension": ".py",
   "mimetype": "text/x-python",
   "name": "python",
   "nbconvert_exporter": "python",
   "pygments_lexer": "ipython3",
   "version": "3.5.5"
  }
 },
 "nbformat": 4,
 "nbformat_minor": 2
}
