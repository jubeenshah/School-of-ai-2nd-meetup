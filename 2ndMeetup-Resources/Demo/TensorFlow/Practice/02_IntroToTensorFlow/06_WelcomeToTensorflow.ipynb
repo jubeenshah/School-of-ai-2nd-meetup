{
 "cells": [
  {
   "cell_type": "markdown",
   "metadata": {},
   "source": [
    "# Placeholders and Variables\n",
    "\n",
    "### © Jubeen Shah 2018\n",
    "\n",
    "Hey there! Welcome to `J.S Codes` jupyter notebooks for TensorFlow!\n",
    "<br>\n",
    "<img src=\"image/notmnist.png\">\n",
    "\n",
    "In this lab, you'll use all the tools you've seen from all the previous notebooks in the series, to label images of English letters! The data you are using, <a href=\"http://yaroslavvb.blogspot.com/2011/09/notmnist-dataset.html\">notMNIST</a>, consists of images of a letter from A to J in different fonts.\n",
    "\n",
    "The above images are a few examples of the data we'll be training on. After training the network, we will compare our prediction model against test data. Our goal, by the end of this notebook, is to make predictions against that test set with at least an 80% accuracy. Let's jump in! \n",
    "__¿Estás listo amigo?__"
   ]
  },
  {
   "cell_type": "markdown",
   "metadata": {},
   "source": [
    "##  Importing the necessary modules\n",
    "\n",
    "*If the below import statement results in an error, please do the following before proceeding.*\n",
    "\n",
    "### For Windows Users\n",
    "\n",
    "__cd__ into the 00_Environments/01_WelcomeToTensorflow folder, then using the Anaconda Prompt for tensorflow execute the following command.\n",
    "\n",
    "__conda env create -f environment_win.yml __\n",
    "\n",
    "This would create the required environment for running this notebook. Then you can use __activate js-welcomeToTensorFlow__ command to activate the environment. Or use the GUI to do the same. All the necessary packages should be installed for you.\n",
    "\n",
    "### For OS X or linux users\n",
    "\n",
    "__cd__ into the 00_Environments/01_WelcomeToTensorflow folder, then using the Terminal execute the following command.\n",
    "\n",
    "__conda env create -f environment.yml __\n",
    "\n",
    "This would create the required environment for running this notebook. Then you can use __source activate js-welcomeToTensorFlow__ command to activate the environment. Or use the GUI to do the same. All the necessary packages should be installed for you."
   ]
  },
  {
   "cell_type": "code",
   "execution_count": 3,
   "metadata": {},
   "outputs": [
    {
     "name": "stdout",
     "output_type": "stream",
     "text": [
      "Import complete\n"
     ]
    }
   ],
   "source": [
    "import hashlib\n",
    "import os\n",
    "import pickle\n",
    "from urllib.request import urlretrieve\n",
    "\n",
    "import numpy as np\n",
    "from PIL import Image\n",
    "from sklearn.model_selection import train_test_split\n",
    "from sklearn.preprocessing import LabelBinarizer\n",
    "from sklearn.utils import resample\n",
    "from tqdm import tqdm\n",
    "from zipfile import ZipFile\n",
    "\n",
    "print(\"Import complete\")"
   ]
  },
  {
   "cell_type": "markdown",
   "metadata": {},
   "source": [
    "### Downloading the dataset\n",
    "The notMNIST dataset is too large for most computers to handle, as it contains well over 500,000 images just for training. We would just be using a subset of 15,000 for each labels(A-J)\n",
    "\n",
    "#### Note : If the below cell throws error for connectivity issues, use these URLS and save the file in the same place as this notebook.\n",
    "[notMNIST_train.zip](https://s3.amazonaws.com/udacity-sdc/notMNIST_train.zip) <br>\n",
    "[notMNIST_test.zip](https://s3.amazonaws.com/udacity-sdc/notMNIST_test.zip)\n"
   ]
  },
  {
   "cell_type": "code",
   "execution_count": 4,
   "metadata": {},
   "outputs": [
    {
     "name": "stdout",
     "output_type": "stream",
     "text": [
      "Downloading notMNIST_train.zip...\n",
      "Download Finished\n",
      "Downloading notMNIST_test.zip...\n",
      "Download Finished\n",
      "All files downloaded.\n"
     ]
    }
   ],
   "source": [
    "# Downloading the dataset\n",
    "\n",
    "def download(url, file):\n",
    "    if not os.path.isfile(file):\n",
    "        print(\"Downloading \" + file + \"...\")\n",
    "        urlretrieve(url= url,filename=file)\n",
    "        print(\"Download Finished\")\n",
    "\n",
    "download('https://s3.amazonaws.com/udacity-sdc/notMNIST_train.zip','notMNIST_train.zip')\n",
    "download('https://s3.amazonaws.com/udacity-sdc/notMNIST_test.zip','notMNIST_test.zip')\n",
    "# Make sure the files aren't corrupted\n",
    "assert hashlib.md5(open('notMNIST_train.zip', 'rb').read()).hexdigest() == 'c8673b3f28f489e9cdf3a3d74e2ac8fa',\\\n",
    "        'notMNIST_train.zip file is corrupted.  Remove the file and try again.'\n",
    "assert hashlib.md5(open('notMNIST_test.zip', 'rb').read()).hexdigest() == '5d3c7e653e63471c88df796156a9dfa9',\\\n",
    "        'notMNIST_test.zip file is corrupted.  Remove the file and try again.'\n",
    "\n",
    "# Wait until you see that all files have been downloaded.\n",
    "print('All files downloaded.')"
   ]
  },
  {
   "cell_type": "markdown",
   "metadata": {},
   "source": [
    "### Uncompressing the downloaded zip file into features and labels\n"
   ]
  },
  {
   "cell_type": "code",
   "execution_count": 5,
   "metadata": {},
   "outputs": [
    {
     "name": "stderr",
     "output_type": "stream",
     "text": [
      "100%|██████████| 210001/210001 [00:35<00:00, 5946.59files/s]\n",
      "100%|██████████| 10001/10001 [00:01<00:00, 6095.06files/s]\n"
     ]
    },
    {
     "name": "stdout",
     "output_type": "stream",
     "text": [
      "All features and labels have been uncompressed\n"
     ]
    }
   ],
   "source": [
    "def uncompress_features_labels(file):\n",
    "    features = []\n",
    "    labels = []  \n",
    "    with ZipFile(file) as zipf:\n",
    "        filenames_pbar = tqdm(zipf.namelist(), unit = 'files')\n",
    "        for filename in filenames_pbar:\n",
    "            if not filename.endswith('/'):\n",
    "                with zipf.open(filename) as image_file:\n",
    "                    image = Image.open(image_file)\n",
    "                    image.load()\n",
    "                    feature = np.array(image, dtype=np.float32).flatten()\n",
    "                label = os.path.split(filename)[1][0]\n",
    "                features.append(feature)\n",
    "                labels.append(label)\n",
    "    return np.array(features), np.array(labels)\n",
    "\n",
    "        \n",
    "train_features, train_labels = uncompress_features_labels('notMNIST_train.zip')\n",
    "test_features, test_labels = uncompress_features_labels('notMNIST_test.zip')\n",
    "\n",
    "# Limit the amount of data to work with a docker container\n",
    "docker_size_limit = 150000\n",
    "train_features, train_labels = resample(train_features, train_labels, n_samples=docker_size_limit)\n",
    "\n",
    "is_feature_normal = False\n",
    "is_labels_encod = False\n",
    "\n",
    "print('All features and labels have been uncompressed')"
   ]
  },
  {
   "cell_type": "markdown",
   "metadata": {},
   "source": [
    "<img src=\"image/Mean_Variance_Image.png\" style=\"height: 75%;width: 75%; position: relative; right: 5%\">\n",
    "### Step 1\n",
    "The first step involves normalizing the features for our training and test data.\n",
    "\n",
    "We will implement Min-Max scaling in the `normalize_grayscale()` function to a range of `a=0.1` and `b=0.9`. After scaling, the values of the pixels in the input data should range from 0.1 to 0.9.\n",
    "\n",
    "Since the raw notMNIST image data is in [grayscale](https://en.wikipedia.org/wiki/Grayscale), the current values range from a min of 0 to a max of 255.\n",
    "\n",
    "Min-Max Scaling:\n",
    "$\n",
    "X'=a+{\\frac {\\left(X-X_{\\min }\\right)\\left(b-a\\right)}{X_{\\max }-X_{\\min }}}\n",
    "$"
   ]
  },
  {
   "cell_type": "code",
   "execution_count": 6,
   "metadata": {},
   "outputs": [
    {
     "name": "stdout",
     "output_type": "stream",
     "text": [
      "Tests Passed!\n"
     ]
    }
   ],
   "source": [
    "# Implementation of min-max scaling\n",
    "\n",
    "def normalize_grayscale(image_data):\n",
    "    \"\"\"\n",
    "    parameters -- the image data to be normalized\n",
    "    returns -- Normalized image data\n",
    "    \"\"\"\n",
    "    a = 0.1\n",
    "    b = 0.9\n",
    "    \n",
    "    x_min = 0\n",
    "    x_max = 255\n",
    "    \n",
    "    x = image_data\n",
    "    \n",
    "    x_bar = a +                              \\\n",
    "    (                                        \\\n",
    "      (                                      \\\n",
    "        (x - x_min) * (b - a)                \\\n",
    "      )                                      \\\n",
    "        /                                    \\\n",
    "        (x_max - x_min)                      \\\n",
    "    )                                        \\\n",
    "    \n",
    "    return x_bar\n",
    "\n",
    "\n",
    "### DON'T MODIFY ANYTHING BELOW ###\n",
    "# Test Cases\n",
    "np.testing.assert_array_almost_equal(\n",
    "    normalize_grayscale(np.array([0, 1, 2, 3, 4, 5, 6, 7, 8, 9, 10, 255])),\n",
    "    [0.1, 0.103137254902, 0.106274509804, 0.109411764706, 0.112549019608, 0.11568627451, 0.118823529412, 0.121960784314,\n",
    "     0.125098039216, 0.128235294118, 0.13137254902, 0.9],\n",
    "    decimal=3)\n",
    "np.testing.assert_array_almost_equal(\n",
    "    normalize_grayscale(np.array([0, 1, 10, 20, 30, 40, 233, 244, 254,255])),\n",
    "    [0.1, 0.103137254902, 0.13137254902, 0.162745098039, 0.194117647059, 0.225490196078, 0.830980392157, 0.865490196078,\n",
    "     0.896862745098, 0.9])\n",
    "\n",
    "if not is_feature_normal:\n",
    "    train_features = normalize_grayscale(train_features)\n",
    "    test_features = normalize_grayscale(test_features)\n",
    "    is_feature_normal = True\n",
    "\n",
    "print('Tests Passed!')"
   ]
  },
  {
   "cell_type": "code",
   "execution_count": 7,
   "metadata": {},
   "outputs": [
    {
     "name": "stdout",
     "output_type": "stream",
     "text": [
      "['C' 'B' 'H' ... 'D' 'D' 'H']\n"
     ]
    }
   ],
   "source": [
    "print(train_labels)"
   ]
  },
  {
   "cell_type": "code",
   "execution_count": 8,
   "metadata": {},
   "outputs": [
    {
     "name": "stdout",
     "output_type": "stream",
     "text": [
      "Labels One-Hot Encoded\n"
     ]
    }
   ],
   "source": [
    "if not is_labels_encod:\n",
    "    encoder = LabelBinarizer()\n",
    "    encoder.fit(train_labels)\n",
    "    train_labels = encoder.transform(train_labels)\n",
    "    test_labels = encoder.transform(test_labels)\n",
    "    \n",
    "    train_labels = train_labels.astype(np.float32)\n",
    "    test_labels = test_labels.astype(np.float32)\n",
    "    is_labels_encod = True\n",
    "print(\"Labels One-Hot Encoded\")"
   ]
  },
  {
   "cell_type": "code",
   "execution_count": 9,
   "metadata": {},
   "outputs": [
    {
     "name": "stdout",
     "output_type": "stream",
     "text": [
      "150000\n"
     ]
    }
   ],
   "source": [
    "print(len(train_labels))"
   ]
  },
  {
   "cell_type": "code",
   "execution_count": 10,
   "metadata": {},
   "outputs": [
    {
     "name": "stdout",
     "output_type": "stream",
     "text": [
      "Training features and labels randomized and split.\n"
     ]
    }
   ],
   "source": [
    "assert is_feature_normal, \"Normalize the features again\"\n",
    "assert is_labels_encod, \"One-hot Encode the labels\"\n",
    "\n",
    "train_features, valid_features, train_labels, valid_labels = train_test_split(\n",
    "    train_features,\n",
    "    train_labels,\n",
    "    test_size = 0.05,\n",
    "    random_state = 832289\n",
    ")\n",
    "print(\"Training features and labels randomized and split.\")"
   ]
  },
  {
   "cell_type": "code",
   "execution_count": 11,
   "metadata": {},
   "outputs": [
    {
     "name": "stdout",
     "output_type": "stream",
     "text": [
      "Saving data to pickle file...\n",
      "Data cached in pickle file.\n"
     ]
    }
   ],
   "source": [
    "# Save the data for easy access\n",
    "pickle_file = 'notMNIST.pickle'\n",
    "if not os.path.isfile(pickle_file):\n",
    "    print('Saving data to pickle file...')\n",
    "    try:\n",
    "        with open('notMNIST.pickle', 'wb') as pfile:\n",
    "            pickle.dump(\n",
    "                {\n",
    "                    'train_dataset': train_features,\n",
    "                    'train_labels': train_labels,\n",
    "                    'valid_dataset': valid_features,\n",
    "                    'valid_labels': valid_labels,\n",
    "                    'test_dataset': test_features,\n",
    "                    'test_labels': test_labels,\n",
    "                },\n",
    "                pfile, pickle.HIGHEST_PROTOCOL)\n",
    "    except Exception as e:\n",
    "        print('Unable to save data to', pickle_file, ':', e)\n",
    "        raise\n",
    "\n",
    "print('Data cached in pickle file.')"
   ]
  },
  {
   "cell_type": "markdown",
   "metadata": {},
   "source": [
    "# Checkpoint\n",
    "All our progress is now saved to the pickle file.  If we need to leave and comeback to this notebook, we no longer have to start from the beginning.  We can just run the code block below and it will load all the data and modules required to proceed."
   ]
  },
  {
   "cell_type": "code",
   "execution_count": 2,
   "metadata": {},
   "outputs": [
    {
     "name": "stderr",
     "output_type": "stream",
     "text": [
      "/Users/jubeenshah/anaconda3/lib/python3.6/site-packages/h5py/__init__.py:36: FutureWarning: Conversion of the second argument of issubdtype from `float` to `np.floating` is deprecated. In future, it will be treated as `np.float64 == np.dtype(float).type`.\n",
      "  from ._conv import register_converters as _register_converters\n"
     ]
    }
   ],
   "source": [
    "%matplotlib inline\n",
    "\n",
    "import pickle\n",
    "import math\n",
    "\n",
    "import numpy as np\n",
    "import tensorflow as tf\n",
    "from tqdm import tqdm\n",
    "import matplotlib.pyplot as plt"
   ]
  },
  {
   "cell_type": "code",
   "execution_count": 3,
   "metadata": {},
   "outputs": [
    {
     "name": "stdout",
     "output_type": "stream",
     "text": [
      "Data and modules loaded.\n"
     ]
    }
   ],
   "source": [
    "pickle_file = 'notMNIST.pickle'\n",
    "with open(pickle_file, 'rb') as f:\n",
    "  pickle_data = pickle.load(f)\n",
    "  train_features = pickle_data['train_dataset']\n",
    "  train_labels = pickle_data['train_labels']\n",
    "  valid_features = pickle_data['valid_dataset']\n",
    "  valid_labels = pickle_data['valid_labels']\n",
    "  test_features = pickle_data['test_dataset']\n",
    "  test_labels = pickle_data['test_labels']\n",
    "  del pickle_data  # Free up memory\n",
    "\n",
    "print('Data and modules loaded.')"
   ]
  },
  {
   "cell_type": "markdown",
   "metadata": {},
   "source": [
    "\n",
    "## Step 2\n",
    "\n",
    "Now it's time to build a simple neural network using TensorFlow. Here, our network will be just an input layer and an output layer.\n",
    "\n",
    "<img src=\"image/network_diagram.png\" style=\"height: 40%;width: 40%; position: relative; right: 10%\">\n",
    "\n",
    "For the input here the images have been flattened into a vector of $28 \\times 28 = 784$ features. Then, we're trying to predict the image digit so there are 10 output units, one for each label. Of course, feel free to add hidden layers if you want, but this notebook is built to guide you through a single layer network. \n",
    "\n",
    "For the neural network to train on your data, you need the following <a href=\"https://www.tensorflow.org/resources/dims_types.html#data-types\">float32</a> tensors:\n",
    " - `features`\n",
    "  - Placeholder tensor for feature data (`train_features`/`valid_features`/`test_features`)\n",
    " - `labels`\n",
    "  - Placeholder tensor for label data (`train_labels`/`valid_labels`/`test_labels`)\n",
    " - `weights`\n",
    "  - Variable Tensor with random numbers from a truncated normal distribution.\n",
    "    - See <a href=\"https://www.tensorflow.org/api_docs/python/constant_op.html#truncated_normal\">`tf.truncated_normal()` documentation</a> for help.\n",
    " - `biases`\n",
    "  - Variable Tensor with all zeros.\n",
    "    - See <a href=\"https://www.tensorflow.org/api_docs/python/constant_op.html#zeros\"> `tf.zeros()` documentation</a> for help."
   ]
  },
  {
   "cell_type": "code",
   "execution_count": 4,
   "metadata": {},
   "outputs": [],
   "source": [
    "features_count = 28*28\n",
    "labels_count = 10"
   ]
  },
  {
   "cell_type": "code",
   "execution_count": 5,
   "metadata": {},
   "outputs": [],
   "source": [
    "features = tf.placeholder(dtype=tf.float32)\n",
    "labels = tf.placeholder(dtype=tf.float32)"
   ]
  },
  {
   "cell_type": "code",
   "execution_count": 6,
   "metadata": {},
   "outputs": [],
   "source": [
    "weights = tf.Variable(tf.truncated_normal((features_count, labels_count)))\n",
    "bias = tf.Variable(tf.zeros((labels_count)))"
   ]
  },
  {
   "cell_type": "markdown",
   "metadata": {},
   "source": [
    "### Testing the approach till now."
   ]
  },
  {
   "cell_type": "code",
   "execution_count": 7,
   "metadata": {},
   "outputs": [
    {
     "name": "stdout",
     "output_type": "stream",
     "text": [
      "WARNING:tensorflow:Tensor._shape is private, use Tensor.shape instead. Tensor._shape will eventually be removed.\n",
      "WARNING:tensorflow:Tensor._shape is private, use Tensor.shape instead. Tensor._shape will eventually be removed.\n",
      "All tests Passed!\n"
     ]
    }
   ],
   "source": [
    "from tensorflow.python.ops.variables import Variable\n",
    "\n",
    "assert features._op.name.startswith('Placeholder'), 'features must be a palceholder'\n",
    "assert labels._op.name.startswith('Placeholder'), 'labels must be a placeholder'\n",
    "assert isinstance(weights, Variable), 'Weights must be a TensorFlow Variable'\n",
    "assert isinstance(bias, Variable), 'biast must be a TensorFlow Variable.'\n",
    "\n",
    "assert features._shape == None or (\\\n",
    "                                    features._shape.dims[0].value is None and\\\n",
    "                                    features._shape.dims[1].value in [None, 784]), 'The shape of the feaures placeholder is incorrect'\n",
    "assert labels._shape == None or(\\\n",
    "                               labels._shape.dims[0] is None and\\\n",
    "                               labels._shape.dims[1] in [None, 10]), 'The shape of the labels placeholder is incorrect'\n",
    "\n",
    "assert weights._variable.shape == (784, 10), 'The shape of the weights variable is incorrect'\n",
    "assert bias._variable.shape == (10), 'The shape of the bias is incorrect'\n",
    "\n",
    "assert features._dtype == tf.float32, \"The features' data type should be tf.float32\"\n",
    "assert labels._dtype == tf.float32, \"The bias' data type should be tf.float32\"\n",
    "\n",
    "print(\"All tests Passed!\")"
   ]
  },
  {
   "cell_type": "markdown",
   "metadata": {},
   "source": [
    "### Setting values using feed_dict"
   ]
  },
  {
   "cell_type": "code",
   "execution_count": 8,
   "metadata": {},
   "outputs": [],
   "source": [
    "train_feed_dict = {features : train_features, labels: train_labels}\n",
    "valid_feed_dict = {features : valid_features, labels: valid_labels}\n",
    "test_feed_dict =  {features: test_features, labels: test_labels}"
   ]
  },
  {
   "cell_type": "markdown",
   "metadata": {},
   "source": [
    "Calculating the logits using WX + B <br>\n",
    "*where, <br>\n",
    "W is the Weights <br>\n",
    "X is the Features, <br>\n",
    "B is the Bias * <br>"
   ]
  },
  {
   "cell_type": "code",
   "execution_count": 9,
   "metadata": {},
   "outputs": [],
   "source": [
    "logits =  tf.matmul(features, weights) + bias\n"
   ]
  },
  {
   "cell_type": "markdown",
   "metadata": {},
   "source": [
    "Calculating the softmax from the logits obtained"
   ]
  },
  {
   "cell_type": "code",
   "execution_count": 10,
   "metadata": {},
   "outputs": [],
   "source": [
    "prediction = tf.nn.softmax(logits=logits)"
   ]
  },
  {
   "cell_type": "markdown",
   "metadata": {},
   "source": [
    "Calculating the cross entropy <br>\n",
    "$H(p,q)=-\\sum _{x}p(x)\\,\\log q(x) $\n"
   ]
  },
  {
   "cell_type": "code",
   "execution_count": 11,
   "metadata": {},
   "outputs": [],
   "source": [
    "cross_entropy = -1 * tf.reduce_sum(labels * tf.log(prediction), reduction_indices= 1)"
   ]
  },
  {
   "cell_type": "code",
   "execution_count": 12,
   "metadata": {},
   "outputs": [],
   "source": [
    "training_loss = tf.reduce_mean(cross_entropy)"
   ]
  },
  {
   "cell_type": "code",
   "execution_count": 13,
   "metadata": {},
   "outputs": [
    {
     "name": "stdout",
     "output_type": "stream",
     "text": [
      "Tests passed\n"
     ]
    }
   ],
   "source": [
    "init = tf.global_variables_initializer()\n",
    "\n",
    "with tf.Session() as sess:\n",
    "    sess.run(init)\n",
    "    sess.run(training_loss, feed_dict = train_feed_dict)\n",
    "    sess.run(training_loss, feed_dict = valid_feed_dict)\n",
    "    sess.run(training_loss, feed_dict = test_feed_dict)\n",
    "    biases_data = sess.run(bias)\n",
    "\n",
    "assert not np.count_nonzero(biases_data), \"Biases must be zeros\"\n",
    "\n",
    "print(\"Tests passed\")"
   ]
  },
  {
   "cell_type": "markdown",
   "metadata": {},
   "source": [
    "### Determining if the predictions are correct\n"
   ]
  },
  {
   "cell_type": "code",
   "execution_count": 14,
   "metadata": {},
   "outputs": [],
   "source": [
    "is_correct_prediction = tf.equal(tf.argmax(prediction, 1), tf.argmax(labels,1))"
   ]
  },
  {
   "cell_type": "markdown",
   "metadata": {},
   "source": [
    "### Calculating the accuracy"
   ]
  },
  {
   "cell_type": "code",
   "execution_count": 15,
   "metadata": {},
   "outputs": [
    {
     "name": "stdout",
     "output_type": "stream",
     "text": [
      "Accuracy funtion created\n"
     ]
    }
   ],
   "source": [
    "accuracy = tf.reduce_mean(tf.cast(is_correct_prediction, tf.float32))\n",
    "\n",
    "print(\"Accuracy funtion created\")"
   ]
  },
  {
   "cell_type": "markdown",
   "metadata": {},
   "source": [
    "<img src=\"image/Learn_Rate_Tune_Image.png\" style=\"height: 70%;width: 70%\">\n",
    "## Step 3\n",
    "Below are 2 parameter configurations for training the neural network. In each configuration, one of the parameters has multiple options. For each configuration, choose the option that gives the best acccuracy.\n",
    "\n",
    "Parameter configurations:\n",
    "\n",
    "Configuration 1\n",
    "* **Epochs:** 1\n",
    "* **Learning Rate:**\n",
    "  * 0.8\n",
    "  * 0.5\n",
    "  * 0.1\n",
    "  * 0.05\n",
    "  * 0.01\n",
    "\n",
    "Configuration 2\n",
    "* **Epochs:**\n",
    "  * 1\n",
    "  * 2\n",
    "  * 3\n",
    "  * 4\n",
    "  * 5\n",
    "* **Learning Rate:** 0.2\n",
    "\n",
    "The code will print out a Loss and Accuracy graph, so we can see how well the neural network performed."
   ]
  },
  {
   "cell_type": "code",
   "execution_count": 16,
   "metadata": {},
   "outputs": [],
   "source": [
    "import time\n",
    "batch_size_list = [128]\n",
    "epochs_list = [5]\n",
    "learning_rate_list = [0.21,0.2,0.1, 0.09]\n",
    "accuracy_list = []\n",
    "accuracy_dict = {}"
   ]
  },
  {
   "cell_type": "code",
   "execution_count": 17,
   "metadata": {},
   "outputs": [
    {
     "name": "stderr",
     "output_type": "stream",
     "text": [
      "\r",
      "Epoch  1/5:   0%|          | 0/1114 [00:00<?, ?batches/s]"
     ]
    },
    {
     "name": "stdout",
     "output_type": "stream",
     "text": [
      "Batch Size = 128 Epochs = 5 Learning Rate = 0.21\n"
     ]
    },
    {
     "name": "stderr",
     "output_type": "stream",
     "text": [
      "Epoch  1/5: 100%|██████████| 1114/1114 [00:05<00:00, 211.70batches/s]\n",
      "Epoch  2/5: 100%|██████████| 1114/1114 [00:04<00:00, 229.40batches/s]\n",
      "Epoch  3/5: 100%|██████████| 1114/1114 [00:04<00:00, 228.76batches/s]\n",
      "Epoch  4/5: 100%|██████████| 1114/1114 [00:04<00:00, 231.04batches/s]\n",
      "Epoch  5/5: 100%|██████████| 1114/1114 [00:04<00:00, 229.20batches/s]\n"
     ]
    },
    {
     "data": {
      "image/png": "[encoded data removed]",
      "text/plain": [
       "<Figure size 432x288 with 2 Axes>"
      ]
     },
     "metadata": {},
     "output_type": "display_data"
    },
    {
     "name": "stderr",
     "output_type": "stream",
     "text": [
      "\r",
      "Epoch  1/5:   0%|          | 0/1114 [00:00<?, ?batches/s]"
     ]
    },
    {
     "name": "stdout",
     "output_type": "stream",
     "text": [
      "Learning rate =  0.21 Epochs =  5\n",
      "Validation accuracy at 0.10293333232402802\n",
      "--- 25.152456760406494 seconds ---\n",
      "Batch Size = 128 Epochs = 5 Learning Rate = 0.2\n"
     ]
    },
    {
     "name": "stderr",
     "output_type": "stream",
     "text": [
      "Epoch  1/5: 100%|██████████| 1114/1114 [00:05<00:00, 215.50batches/s]\n",
      "Epoch  2/5: 100%|██████████| 1114/1114 [00:04<00:00, 242.38batches/s]\n",
      "Epoch  3/5: 100%|██████████| 1114/1114 [00:04<00:00, 239.36batches/s]\n",
      "Epoch  4/5: 100%|██████████| 1114/1114 [00:05<00:00, 206.95batches/s]\n",
      "Epoch  5/5: 100%|██████████| 1114/1114 [00:05<00:00, 217.33batches/s]\n"
     ]
    },
    {
     "data": {
      "image/png": "[encoded data removed]",
      "text/plain": [
       "<Figure size 432x288 with 2 Axes>"
      ]
     },
     "metadata": {},
     "output_type": "display_data"
    },
    {
     "name": "stderr",
     "output_type": "stream",
     "text": [
      "\r",
      "Epoch  1/5:   0%|          | 0/1114 [00:00<?, ?batches/s]"
     ]
    },
    {
     "name": "stdout",
     "output_type": "stream",
     "text": [
      "Learning rate =  0.2 Epochs =  5\n",
      "Validation accuracy at 0.7785333395004272\n",
      "--- 25.213414907455444 seconds ---\n",
      "Batch Size = 128 Epochs = 5 Learning Rate = 0.1\n"
     ]
    },
    {
     "name": "stderr",
     "output_type": "stream",
     "text": [
      "Epoch  1/5: 100%|██████████| 1114/1114 [00:05<00:00, 212.92batches/s]\n",
      "Epoch  2/5: 100%|██████████| 1114/1114 [00:04<00:00, 230.28batches/s]\n",
      "Epoch  3/5: 100%|██████████| 1114/1114 [00:04<00:00, 238.19batches/s]\n",
      "Epoch  4/5: 100%|██████████| 1114/1114 [00:04<00:00, 237.70batches/s]\n",
      "Epoch  5/5: 100%|██████████| 1114/1114 [00:04<00:00, 236.21batches/s]\n"
     ]
    },
    {
     "data": {
      "image/png": "[encoded data removed]",
      "text/plain": [
       "<Figure size 432x288 with 2 Axes>"
      ]
     },
     "metadata": {},
     "output_type": "display_data"
    },
    {
     "name": "stderr",
     "output_type": "stream",
     "text": [
      "\r",
      "Epoch  1/5:   0%|          | 0/1114 [00:00<?, ?batches/s]"
     ]
    },
    {
     "name": "stdout",
     "output_type": "stream",
     "text": [
      "Learning rate =  0.1 Epochs =  5\n",
      "Validation accuracy at 0.7663999795913696\n",
      "--- 24.45477604866028 seconds ---\n",
      "Batch Size = 128 Epochs = 5 Learning Rate = 0.09\n"
     ]
    },
    {
     "name": "stderr",
     "output_type": "stream",
     "text": [
      "Epoch  1/5: 100%|██████████| 1114/1114 [00:05<00:00, 209.95batches/s]\n",
      "Epoch  2/5: 100%|██████████| 1114/1114 [00:04<00:00, 235.28batches/s]\n",
      "Epoch  3/5: 100%|██████████| 1114/1114 [00:04<00:00, 237.26batches/s]\n",
      "Epoch  4/5: 100%|██████████| 1114/1114 [00:04<00:00, 236.71batches/s]\n",
      "Epoch  5/5: 100%|██████████| 1114/1114 [00:04<00:00, 232.78batches/s]\n"
     ]
    },
    {
     "data": {
      "image/png": "[encoded data removed]",
      "text/plain": [
       "<Figure size 432x288 with 2 Axes>"
      ]
     },
     "metadata": {},
     "output_type": "display_data"
    },
    {
     "name": "stdout",
     "output_type": "stream",
     "text": [
      "Learning rate =  0.09 Epochs =  5\n",
      "Validation accuracy at 0.7716000080108643\n",
      "--- 24.530550003051758 seconds ---\n"
     ]
    }
   ],
   "source": [
    "#gradient descent\n",
    "for batch_size in batch_size_list:\n",
    "    for epochs in epochs_list:\n",
    "        for learning_rate in learning_rate_list:\n",
    "            start_time = time.time()\n",
    "            print(\"Batch Size = \" + str(batch_size) + \" Epochs = \" + str(epochs) + \" Learning Rate = \" + str(learning_rate))\n",
    "            optimizer = tf.train.GradientDescentOptimizer(learning_rate=learning_rate).minimize(training_loss)\n",
    "\n",
    "            validation_accuracy = 0.0\n",
    "\n",
    "            log_batch_step = 50\n",
    "            batches =[]\n",
    "            loss_batch = []\n",
    "            train_acc_batch = []\n",
    "            valid_acc_batch = []\n",
    "\n",
    "            with tf.Session() as sess:\n",
    "                sess.run(init)\n",
    "                batch_count = int(math.ceil(len(train_features)/ batch_size))\n",
    "\n",
    "                for epochs_i in range(epochs):\n",
    "                    batches_pbar = tqdm(range(batch_count), desc = 'Epoch {:>2}/{}'.format(epochs_i+1, epochs), unit='batches')\n",
    "\n",
    "                     # The training cycle\n",
    "                    for batch_i in batches_pbar:\n",
    "                        # Get a batch of training features and labels\n",
    "                        batch_start = batch_i*batch_size\n",
    "                        batch_features = train_features[batch_start:batch_start + batch_size]\n",
    "                        batch_labels = train_labels[batch_start:batch_start + batch_size]\n",
    "\n",
    "                        # Run optimizer and get loss\n",
    "                        _, l = sess.run(\n",
    "                            [optimizer, training_loss],\n",
    "                            feed_dict={features: batch_features, labels: batch_labels})\n",
    "\n",
    "                        # Log every 50 batches\n",
    "                        if not batch_i % log_batch_step:\n",
    "                            # Calculate Training and Validation accuracy\n",
    "                            training_accuracy = sess.run(accuracy, feed_dict=train_feed_dict)\n",
    "                            validation_accuracy = sess.run(accuracy, feed_dict=valid_feed_dict)\n",
    "\n",
    "                            # Log batches\n",
    "                            previous_batch = batches[-1] if batches else 0\n",
    "                            batches.append(log_batch_step + previous_batch)\n",
    "                            loss_batch.append(l)\n",
    "                            train_acc_batch.append(training_accuracy)\n",
    "                            valid_acc_batch.append(validation_accuracy)\n",
    "\n",
    "                    # Check accuracy against Validation data\n",
    "                    validation_accuracy = sess.run(accuracy, feed_dict=valid_feed_dict)\n",
    "\n",
    "            loss_plot = plt.subplot(211)\n",
    "            loss_plot.set_title('Loss')\n",
    "            loss_plot.plot(batches, loss_batch, 'g')\n",
    "            loss_plot.set_xlim([batches[0], batches[-1]])\n",
    "            acc_plot = plt.subplot(212)\n",
    "            acc_plot.set_title('Accuracy')\n",
    "            acc_plot.plot(batches, train_acc_batch, 'r', label='Training Accuracy')\n",
    "            acc_plot.plot(batches, valid_acc_batch, 'x', label='Validation Accuracy')\n",
    "            acc_plot.set_ylim([0, 1.0])\n",
    "            acc_plot.set_xlim([batches[0], batches[-1]])\n",
    "            acc_plot.legend(loc=4)\n",
    "            plt.tight_layout()\n",
    "            plt.show()\n",
    "            print(\"Learning rate = \", learning_rate, end = \"\")\n",
    "            print(\" Epochs = \",  epochs)\n",
    "            print('Validation accuracy at {}'.format(validation_accuracy))\n",
    "            accuracy_list.append(validation_accuracy)\n",
    "            time_taken = time.time() - start_time\n",
    "            accuracy_dict = {validation_accuracy : [learning_rate, epochs,batch_size, time_taken]}\n",
    "            print(\"--- %s seconds ---\" % (time.time() - start_time))\n"
   ]
  },
  {
   "cell_type": "code",
   "execution_count": 20,
   "metadata": {},
   "outputs": [
    {
     "name": "stderr",
     "output_type": "stream",
     "text": [
      "Epoch  1/5: 100%|██████████| 1114/1114 [00:01<00:00, 676.70batches/s]\n",
      "Epoch  2/5: 100%|██████████| 1114/1114 [00:01<00:00, 766.80batches/s]\n",
      "Epoch  3/5: 100%|██████████| 1114/1114 [00:01<00:00, 759.63batches/s]\n",
      "Epoch  4/5: 100%|██████████| 1114/1114 [00:01<00:00, 759.09batches/s]\n",
      "Epoch  5/5: 100%|██████████| 1114/1114 [00:01<00:00, 758.43batches/s]"
     ]
    },
    {
     "name": "stdout",
     "output_type": "stream",
     "text": [
      "Nice Job! Test Accuracy is 0.8406999707221985\n"
     ]
    },
    {
     "name": "stderr",
     "output_type": "stream",
     "text": [
      "\n"
     ]
    }
   ],
   "source": [
    "### DON'T MODIFY ANYTHING BELOW ###\n",
    "# The accuracy measured against the test set\n",
    "test_accuracy = 0.0\n",
    "\n",
    "with tf.Session() as session:\n",
    "    \n",
    "    session.run(init)\n",
    "    batch_count = int(math.ceil(len(train_features)/batch_size))\n",
    "\n",
    "    for epoch_i in range(epochs):\n",
    "        \n",
    "        # Progress bar\n",
    "        batches_pbar = tqdm(range(batch_count), desc='Epoch {:>2}/{}'.format(epoch_i+1, epochs), unit='batches')\n",
    "        \n",
    "        # The training cycle\n",
    "        for batch_i in batches_pbar:\n",
    "            # Get a batch of training features and labels\n",
    "            batch_start = batch_i*batch_size\n",
    "            batch_features = train_features[batch_start:batch_start + batch_size]\n",
    "            batch_labels = train_labels[batch_start:batch_start + batch_size]\n",
    "\n",
    "            # Run optimizer\n",
    "            _ = session.run(optimizer, feed_dict={features: batch_features, labels: batch_labels})\n",
    "\n",
    "        # Check accuracy against Test data\n",
    "        test_accuracy = session.run(accuracy, feed_dict=test_feed_dict)\n",
    "\n",
    "\n",
    "assert test_accuracy >= 0.80, 'Test accuracy at {}, should be equal to or greater than 0.80'.format(test_accuracy)\n",
    "print('Nice Job! Test Accuracy is {}'.format(test_accuracy))"
   ]
  },
  {
   "cell_type": "code",
   "execution_count": null,
   "metadata": {
    "collapsed": true
   },
   "outputs": [],
   "source": []
  }
 ],
 "metadata": {
  "kernelspec": {
   "display_name": "Python 3",
   "language": "python",
   "name": "python3"
  },
  "language_info": {
   "codemirror_mode": {
    "name": "ipython",
    "version": 3
   },
   "file_extension": ".py",
   "mimetype": "text/x-python",
   "name": "python",
   "nbconvert_exporter": "python",
   "pygments_lexer": "ipython3",
   "version": "3.6.5"
  }
 },
 "nbformat": 4,
 "nbformat_minor": 2
}
